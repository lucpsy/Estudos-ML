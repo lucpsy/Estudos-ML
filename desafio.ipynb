from sklearn.datasets import load_iris
from sklearn.model_selection import train_test_split
from sklearn.neighbors import KNeighborsClassifier
from sklearn.tree import DecisionTreeClassifier,plot_tree
from sklearn.metrics import accuracy_score,confusion_matrix
import pandas as pd
import matplotlib.pyplot as plt
import seaborn as sns
Load e formatação dos dados
iris = load_iris()
df = pd.DataFrame(iris.data, columns=iris.feature_names)
df['especie'] = iris.target
df['especie'] = df['especie'].map({0: 'setosa', 1: 'versicolor', 2: 'virginica'})
Relaçoes de dispersão das especies pela largura e comprimento das sépalas bem como largura e comprimento das pétalas
sns.pairplot(df,hue = 'especie');
Dispersão das especies pela largura e comprimento das pétalas
Estatisticas
df.describe()
Distribuição dos dados para treinamento
dados = df.drop(['especie'], axis = 1)
respostas= df['especie']
dados_treino,dados_teste,resposta_treino,resposta_teste = train_test_split(dados, respostas, test_size=0.3)
Identação e treinamento das IAs
knn = KNeighborsClassifier(n_neighbors=3)
arvore = DecisionTreeClassifier()
knn.fit(dados_treino,resposta_treino)
arvore.fit(dados_treino,resposta_treino);
Previsões e avaliações das IAs
resposta_knn = knn.predict(dados_teste)
resposta_arvore = arvore.predict(dados_teste)

print(f"Acurácia knn:{accuracy_score(resposta_teste, resposta_knn):.3f}%")
print(f"matriz de confusão do knn:\n{confusion_matrix(resposta_teste,resposta_knn)}")
print(f"\nAcurácia árvore de decisões:{accuracy_score(resposta_teste, resposta_arvore):.3f}%")
print(f"matriz de confusão da árvore de decisões:\n{confusion_matrix(resposta_teste, resposta_arvore)}")

Mapeamento da arvore de decisões
plt.figure(figsize=(12,6))
plot_tree(arvore, 
          feature_names=iris.feature_names, 
          class_names=iris.target_names, 
          filled=True);
plt.show()
