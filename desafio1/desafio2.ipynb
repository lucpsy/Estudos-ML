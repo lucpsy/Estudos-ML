
import pandas as pd
import numpy as np
import seaborn as sns
import matplotlib.pyplot as plt
from sklearn.model_selection import train_test_split 
from sklearn.ensemble import RandomForestClassifier
from sklearn.linear_model import LogisticRegression
from sklearn.metrics import accuracy_score, classification_report, confusion_matrix
# ========================
# 1. Leitura dos dados
# ========================

df = pd.read_csv("C:\\Users\\lucin\\OneDrive\\Documentos\\desafio2titanic.csv")


# ========================
# 2. Análise Exploratória
# ========================


# Distribuição da variável alvo

sns.countplot(x='Survived', data=df)
plt.title("Distribuição de Sobrevivência")
plt.show()
# Distribuição da Idade

# Distribuição da Idade
sns.histplot(df['Age'].dropna(), bins=30, kde=True)
plt.title("Distribuição de Idade dos Passageiros")
plt.show()

# Relação Idade x Sobrevivência

sns.boxplot(x='Survived', y='Age', data=df)
plt.title("Idade x Sobrevivência")
plt.show()
# Relação Sexo x Sobrevivência

sns.countplot(x='Survived', hue='Sex', data=df)
plt.title("Sexo x Sobrevivência")
plt.show()

# Relação Classe x Sobrevivência

sns.countplot(x='Survived', hue='Pclass', data=df)
plt.title("Classe x Sobrevivência")
handles, labels = plt.gca().get_legend_handles_labels()
labels = ['Primeira Classe', 'Segunda Classe', 'Terceira Classe']
plt.legend(handles, labels, title='Classe')
plt.show()

# Relação Porto de Embarque x Sobrevivência

sns.countplot(x='Embarked', hue='Survived', data=df)
plt.title("Porto de Embarque x Sobrevivência")
plt.show()


# Relação Porto de Embarque x Sobrevivência

sns.countplot(x='Embarked', hue='Survived', data=df)
plt.title("Porto de Embarque x Sobrevivência")
plt.show()

# ========================
# 3. Pré-processamento
# ========================


# Preencher valores ausentes
df['Age'] = df['Age'].fillna(df['Age'].median())
df['Embarked'] = df['Embarked'].fillna(df['Embarked'].mode()[0])

# Converter variáveis categóricas
df['Sex'] = df['Sex'].map({'male': 0, 'female': 1})
df = pd.get_dummies(df, columns=['Embarked'], drop_first=True)

# Remover colunas irrelevantes
df.drop(columns=['Name', 'Ticket', 'Cabin', 'PassengerId'], inplace=True)


# ========================
# 4. Visualização (Histograma das principais features)
# ========================

features = ['Pclass', 'Sex', 'Age', 'Fare', 'Embarked_Q', 'Embarked_S']
df[features].hist(bins=30, figsize=(12, 8))
plt.suptitle("Distribuição das Variáveis Selecionadas")
plt.show()


# ========================
# 5. Correlação
# ========================

plt.figure(figsize=(10, 6))
correlacao = df.corr(numeric_only=True)
sns.heatmap(correlacao, annot=True, cmap='coolwarm', fmt=".2f")
plt.title("Matriz de Correlação")
plt.show()


# ========================
# 6. Modelagem
# ========================

# Features e alvo
X = df[features]
y = df['Survived']

# Divisão treino/teste
X_train, X_test, y_train, y_test = train_test_split(X, y, test_size=0.2, random_state=42)

# Modelo Random Forest
modeloA = RandomForestClassifier(random_state=42)
modeloA.fit(X_train, y_train)
modeloB = LogisticRegression(max_iter=1000)
modeloB.fit(X_train,y_train)

# Previsões e avaliação
y_predA = modeloA.predict(X_test)
y_predB = modeloB.predict(X_test)

print("Acurácia:", accuracy_score(y_test, y_predA))
print("\nRelatório de Classificação:\n", classification_report(y_test, y_predA))
print("Acurácia:", accuracy_score(y_test, y_predB))
print("\nRelatório de Classificação:\n", classification_report(y_test, y_predB))

# Matriz de confusão

cm = confusion_matrix(y_test, y_predA)
plt.figure(figsize=(6, 5))
sns.heatmap(cm, annot=True, fmt='d', cmap='Blues', cbar=False,
            xticklabels=['Negativo', 'Positivo'],
            yticklabels=['Negativo', 'Positivo'])

plt.xlabel('Previsto', fontsize=12)
plt.ylabel('Real', fontsize=12)
plt.title('Matriz de Confusão', fontsize=14)
plt.tight_layout()
plt.show()
